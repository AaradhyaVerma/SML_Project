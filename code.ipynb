{
 "cells": [
  {
   "cell_type": "code",
   "execution_count": 36,
   "metadata": {},
   "outputs": [
    {
     "name": "stdout",
     "output_type": "stream",
     "text": [
      "(6400, 16384) (6400,)\n",
      "(4800, 16384) (1600, 16384)\n"
     ]
    }
   ],
   "source": [
    "import os\n",
    "import cv2\n",
    "import numpy as np\n",
    "import random\n",
    "# Loop through each file name\n",
    "def load_dataset(image_dir, label):\n",
    "    file_names = os.listdir(image_dir)\n",
    "\n",
    "    images = []\n",
    "    for file_name in file_names:\n",
    "        # Construct the full path to the image file\n",
    "        file_path = os.path.join(image_dir, file_name)\n",
    "        \n",
    "        # Load the image using OpenCV\n",
    "        image = cv2.imread(file_path, cv2.IMREAD_GRAYSCALE)\n",
    "        \n",
    "        # Check if the image was successfully loaded\n",
    "        if image is not None:\n",
    "            # Append the image to the list\n",
    "            images.append(image)\n",
    "    \n",
    "    images = np.array(images)\n",
    "\n",
    "    rows = 1\n",
    "    cols = 5\n",
    "    c = 1\n",
    "    for i in range (0,5):\n",
    "        plt.subplot(rows, cols, c)\n",
    "        c+=1\n",
    "        plt.imshow(images[i], plt.get_cmap('gray'))\n",
    "\n",
    "    plt.show()\n",
    "\n",
    "    images = images.reshape(images.shape[0], -1)\n",
    "\n",
    "    y_train = images.shape[0]*[ label ]\n",
    "    y_train = np.array(y_train)\n",
    "\n",
    "    return [images, y_train]\n",
    "    \n",
    "\n",
    "\n",
    "    \n",
    "[x_train_0, y_train_0] = load_dataset(\"./Dataset/Non_Demented\", 0)\n",
    "[x_train_1, y_train_1] = load_dataset(\"./Dataset/Very_Mild_Demented\", 1)\n",
    "[x_train_2, y_train_2] = load_dataset(\"./Dataset/Mild_Demented\", 2)\n",
    "[x_train_3, y_train_3] = load_dataset(\"./Dataset/Moderate_Demented\", 3)\n",
    "\n",
    "\n",
    "X = np.concatenate((x_train_0, x_train_1, x_train_2, x_train_3 ))\n",
    "Y = np.concatenate((y_train_0, y_train_1, y_train_2, y_train_3 ))\n",
    "\n",
    "indices = np.random.choice(X.shape[0], size = X.shape[0], replace = False)\n",
    "\n",
    "print(X.shape, Y.shape)\n",
    "X_train = X[: int(X.shape[0] * 0.75)]\n",
    "Y_train = Y[: int(X.shape[0] * 0.75)]\n",
    "\n",
    "X_test = X[int(X.shape[0] * 0.75) : ]\n",
    "Y_test = Y[int(X.shape[0] * 0.75) : ]\n",
    "\n",
    "print(X_train.shape, X_test.shape)\n",
    "\n",
    "\n",
    "\n"
   ]
  },
  {
   "cell_type": "code",
   "execution_count": 1,
   "metadata": {},
   "outputs": [
    {
     "ename": "ModuleNotFoundError",
     "evalue": "No module named 'matplotlib'",
     "output_type": "error",
     "traceback": [
      "\u001b[0;31m---------------------------------------------------------------------------\u001b[0m",
      "\u001b[0;31mModuleNotFoundError\u001b[0m                       Traceback (most recent call last)",
      "Cell \u001b[0;32mIn[1], line 1\u001b[0m\n\u001b[0;32m----> 1\u001b[0m \u001b[38;5;28;01mfrom\u001b[39;00m \u001b[38;5;21;01mmatplotlib\u001b[39;00m \u001b[38;5;28;01mimport\u001b[39;00m pyplot \u001b[38;5;28;01mas\u001b[39;00m plt\n",
      "\u001b[0;31mModuleNotFoundError\u001b[0m: No module named 'matplotlib'"
     ]
    }
   ],
   "source": [
    "from matplotlib import pyplot as plt"
   ]
  },
  {
   "cell_type": "markdown",
   "metadata": {},
   "source": []
  }
 ],
 "metadata": {
  "kernelspec": {
   "display_name": "Python 3",
   "language": "python",
   "name": "python3"
  },
  "language_info": {
   "codemirror_mode": {
    "name": "ipython",
    "version": 3
   },
   "file_extension": ".py",
   "mimetype": "text/x-python",
   "name": "python",
   "nbconvert_exporter": "python",
   "pygments_lexer": "ipython3",
   "version": "3.11.8"
  }
 },
 "nbformat": 4,
 "nbformat_minor": 2
}
